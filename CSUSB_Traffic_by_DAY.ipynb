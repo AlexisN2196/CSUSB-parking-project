{
 "cells": [
  {
   "cell_type": "markdown",
   "id": "5d84cba9",
   "metadata": {},
   "source": [
    "Alexis Nieto and Payton Cavanagh for Dr.Hou CSUSB parking project"
   ]
  },
  {
   "cell_type": "code",
   "execution_count": 1,
   "id": "607127d6",
   "metadata": {},
   "outputs": [],
   "source": [
    "import pandas as pd\n",
    "import matplotlib.pyplot as plt\n",
    "from tabulate import tabulate"
   ]
  },
  {
   "cell_type": "code",
   "execution_count": 2,
   "id": "cfaf8979",
   "metadata": {},
   "outputs": [],
   "source": [
    "df = pd.read_csv('Fall2021_export.csv', parse_dates=['timestamp'])"
   ]
  },
  {
   "cell_type": "code",
   "execution_count": 3,
   "id": "57a32514",
   "metadata": {},
   "outputs": [],
   "source": [
    "df['weekday'] = df['timestamp'].dt.day_name() # adding weekday column to the df\n"
   ]
  },
  {
   "cell_type": "code",
   "execution_count": 4,
   "id": "19996ee9",
   "metadata": {},
   "outputs": [],
   "source": [
    "#df.set_index ('timestamp', inplace= True)\n",
    "df.index = df['timestamp']"
   ]
  },
  {
   "cell_type": "code",
   "execution_count": 5,
   "id": "bf245f1d",
   "metadata": {},
   "outputs": [],
   "source": [
    "df = df.tz_convert(tz = 'US/Pacific')"
   ]
  },
  {
   "cell_type": "code",
   "execution_count": 6,
   "id": "bb72fb3a",
   "metadata": {},
   "outputs": [
    {
     "name": "stdout",
     "output_type": "stream",
     "text": [
      "semester total =  55448\n"
     ]
    }
   ],
   "source": [
    "filt =(df['event'] == 1)\n",
    "df.loc[filt]\n",
    "semester_total = df.loc[filt].shape[0]\n",
    "print('semester total = ', semester_total)"
   ]
  },
  {
   "cell_type": "code",
   "execution_count": 7,
   "id": "f2189ce5",
   "metadata": {},
   "outputs": [
    {
     "data": {
      "text/html": [
       "<div>\n",
       "<style scoped>\n",
       "    .dataframe tbody tr th:only-of-type {\n",
       "        vertical-align: middle;\n",
       "    }\n",
       "\n",
       "    .dataframe tbody tr th {\n",
       "        vertical-align: top;\n",
       "    }\n",
       "\n",
       "    .dataframe thead th {\n",
       "        text-align: right;\n",
       "    }\n",
       "</style>\n",
       "<table border=\"1\" class=\"dataframe\">\n",
       "  <thead>\n",
       "    <tr style=\"text-align: right;\">\n",
       "      <th></th>\n",
       "      <th>timestamp</th>\n",
       "      <th>sensor_id</th>\n",
       "      <th>event</th>\n",
       "      <th>description</th>\n",
       "      <th>weekday</th>\n",
       "    </tr>\n",
       "    <tr>\n",
       "      <th>timestamp</th>\n",
       "      <th></th>\n",
       "      <th></th>\n",
       "      <th></th>\n",
       "      <th></th>\n",
       "      <th></th>\n",
       "    </tr>\n",
       "  </thead>\n",
       "  <tbody>\n",
       "    <tr>\n",
       "      <th>2021-08-23 00:37:34.498000-07:00</th>\n",
       "      <td>2021-08-23 07:37:34.498000+00:00</td>\n",
       "      <td>a224</td>\n",
       "      <td>-1</td>\n",
       "      <td>Exit East</td>\n",
       "      <td>Monday</td>\n",
       "    </tr>\n",
       "    <tr>\n",
       "      <th>2021-08-23 02:18:44.971000-07:00</th>\n",
       "      <td>2021-08-23 09:18:44.971000+00:00</td>\n",
       "      <td>a43b</td>\n",
       "      <td>1</td>\n",
       "      <td>Enter East</td>\n",
       "      <td>Monday</td>\n",
       "    </tr>\n",
       "    <tr>\n",
       "      <th>2021-08-23 02:28:50.811000-07:00</th>\n",
       "      <td>2021-08-23 09:28:50.811000+00:00</td>\n",
       "      <td>a224</td>\n",
       "      <td>-1</td>\n",
       "      <td>Exit East</td>\n",
       "      <td>Monday</td>\n",
       "    </tr>\n",
       "    <tr>\n",
       "      <th>2021-08-23 04:29:56.736000-07:00</th>\n",
       "      <td>2021-08-23 11:29:56.736000+00:00</td>\n",
       "      <td>a43b</td>\n",
       "      <td>1</td>\n",
       "      <td>Enter East</td>\n",
       "      <td>Monday</td>\n",
       "    </tr>\n",
       "    <tr>\n",
       "      <th>2021-08-23 04:36:56.650000-07:00</th>\n",
       "      <td>2021-08-23 11:36:56.650000+00:00</td>\n",
       "      <td>a43b</td>\n",
       "      <td>1</td>\n",
       "      <td>Enter East</td>\n",
       "      <td>Monday</td>\n",
       "    </tr>\n",
       "    <tr>\n",
       "      <th>...</th>\n",
       "      <td>...</td>\n",
       "      <td>...</td>\n",
       "      <td>...</td>\n",
       "      <td>...</td>\n",
       "      <td>...</td>\n",
       "    </tr>\n",
       "    <tr>\n",
       "      <th>2021-12-23 09:25:38.150000-08:00</th>\n",
       "      <td>2021-12-23 17:25:38.150000+00:00</td>\n",
       "      <td>a9a4</td>\n",
       "      <td>1</td>\n",
       "      <td>Enter West</td>\n",
       "      <td>Thursday</td>\n",
       "    </tr>\n",
       "    <tr>\n",
       "      <th>2021-12-23 09:42:10.494000-08:00</th>\n",
       "      <td>2021-12-23 17:42:10.494000+00:00</td>\n",
       "      <td>a7db</td>\n",
       "      <td>-1</td>\n",
       "      <td>Exit West</td>\n",
       "      <td>Thursday</td>\n",
       "    </tr>\n",
       "    <tr>\n",
       "      <th>2021-12-23 09:49:08.283000-08:00</th>\n",
       "      <td>2021-12-23 17:49:08.283000+00:00</td>\n",
       "      <td>a7db</td>\n",
       "      <td>-1</td>\n",
       "      <td>Exit West</td>\n",
       "      <td>Thursday</td>\n",
       "    </tr>\n",
       "    <tr>\n",
       "      <th>2021-12-23 11:02:56.549000-08:00</th>\n",
       "      <td>2021-12-23 19:02:56.549000+00:00</td>\n",
       "      <td>a43b</td>\n",
       "      <td>1</td>\n",
       "      <td>Enter East</td>\n",
       "      <td>Thursday</td>\n",
       "    </tr>\n",
       "    <tr>\n",
       "      <th>2021-12-23 12:00:45.100000-08:00</th>\n",
       "      <td>2021-12-23 20:00:45.100000+00:00</td>\n",
       "      <td>a224</td>\n",
       "      <td>-1</td>\n",
       "      <td>Exit East</td>\n",
       "      <td>Thursday</td>\n",
       "    </tr>\n",
       "  </tbody>\n",
       "</table>\n",
       "<p>101899 rows × 5 columns</p>\n",
       "</div>"
      ],
      "text/plain": [
       "                                                        timestamp sensor_id  \\\n",
       "timestamp                                                                     \n",
       "2021-08-23 00:37:34.498000-07:00 2021-08-23 07:37:34.498000+00:00      a224   \n",
       "2021-08-23 02:18:44.971000-07:00 2021-08-23 09:18:44.971000+00:00      a43b   \n",
       "2021-08-23 02:28:50.811000-07:00 2021-08-23 09:28:50.811000+00:00      a224   \n",
       "2021-08-23 04:29:56.736000-07:00 2021-08-23 11:29:56.736000+00:00      a43b   \n",
       "2021-08-23 04:36:56.650000-07:00 2021-08-23 11:36:56.650000+00:00      a43b   \n",
       "...                                                           ...       ...   \n",
       "2021-12-23 09:25:38.150000-08:00 2021-12-23 17:25:38.150000+00:00      a9a4   \n",
       "2021-12-23 09:42:10.494000-08:00 2021-12-23 17:42:10.494000+00:00      a7db   \n",
       "2021-12-23 09:49:08.283000-08:00 2021-12-23 17:49:08.283000+00:00      a7db   \n",
       "2021-12-23 11:02:56.549000-08:00 2021-12-23 19:02:56.549000+00:00      a43b   \n",
       "2021-12-23 12:00:45.100000-08:00 2021-12-23 20:00:45.100000+00:00      a224   \n",
       "\n",
       "                                  event description   weekday  \n",
       "timestamp                                                      \n",
       "2021-08-23 00:37:34.498000-07:00     -1  Exit East     Monday  \n",
       "2021-08-23 02:18:44.971000-07:00      1  Enter East    Monday  \n",
       "2021-08-23 02:28:50.811000-07:00     -1  Exit East     Monday  \n",
       "2021-08-23 04:29:56.736000-07:00      1  Enter East    Monday  \n",
       "2021-08-23 04:36:56.650000-07:00      1  Enter East    Monday  \n",
       "...                                 ...         ...       ...  \n",
       "2021-12-23 09:25:38.150000-08:00      1  Enter West  Thursday  \n",
       "2021-12-23 09:42:10.494000-08:00     -1  Exit West   Thursday  \n",
       "2021-12-23 09:49:08.283000-08:00     -1  Exit West   Thursday  \n",
       "2021-12-23 11:02:56.549000-08:00      1  Enter East  Thursday  \n",
       "2021-12-23 12:00:45.100000-08:00     -1  Exit East   Thursday  \n",
       "\n",
       "[101899 rows x 5 columns]"
      ]
     },
     "execution_count": 7,
     "metadata": {},
     "output_type": "execute_result"
    }
   ],
   "source": [
    "#remove weekends from dataframe\n",
    "weekday_df = df[(df['weekday'] != 'Saturday') & (df['weekday'] != 'Sunday')]\n",
    "weekday_df\n"
   ]
  },
  {
   "cell_type": "code",
   "execution_count": 15,
   "id": "dc5eee1f",
   "metadata": {},
   "outputs": [
    {
     "name": "stdout",
     "output_type": "stream",
     "text": [
      "int64\n"
     ]
    }
   ],
   "source": [
    "#Payton's code\n",
    "#c = []\n",
    "car_count = 0\n",
    "time_filt = ((weekday_df['event'] == 1).resample('H').sum()) - (\n",
    "    (weekday_df['event'] == -1).resample('H').sum())\n",
    "\n",
    "new_time = time_filt['2021-08-23 02:00:00':'2021-12-23']\n",
    "new_time\n",
    "type(new_time)\n",
    "\n",
    "#c.append(new_time['2021-09-07-2:00':'2021-09-10'])\n",
    "#c\n",
    "print(new_time.dtype)"
   ]
  },
  {
   "cell_type": "code",
   "execution_count": 9,
   "id": "8aea7ce7",
   "metadata": {},
   "outputs": [
    {
     "ename": "NameError",
     "evalue": "name 'c' is not defined",
     "output_type": "error",
     "traceback": [
      "\u001b[1;31m---------------------------------------------------------------------------\u001b[0m",
      "\u001b[1;31mNameError\u001b[0m                                 Traceback (most recent call last)",
      "\u001b[1;32m~\\AppData\\Local\\Temp/ipykernel_7468/3847489355.py\u001b[0m in \u001b[0;36m<module>\u001b[1;34m\u001b[0m\n\u001b[1;32m----> 1\u001b[1;33m \u001b[1;32mfor\u001b[0m \u001b[0mi\u001b[0m \u001b[1;32min\u001b[0m \u001b[0mrange\u001b[0m\u001b[1;33m(\u001b[0m\u001b[0mlen\u001b[0m\u001b[1;33m(\u001b[0m\u001b[0mc\u001b[0m\u001b[1;33m)\u001b[0m\u001b[1;33m)\u001b[0m\u001b[1;33m:\u001b[0m\u001b[1;33m\u001b[0m\u001b[1;33m\u001b[0m\u001b[0m\n\u001b[0m\u001b[0;32m      2\u001b[0m     \u001b[0mcar_count\u001b[0m \u001b[1;33m+=\u001b[0m \u001b[0mint\u001b[0m\u001b[1;33m(\u001b[0m\u001b[0mc\u001b[0m\u001b[1;33m[\u001b[0m\u001b[1;36m1\u001b[0m\u001b[1;33m]\u001b[0m\u001b[1;33m)\u001b[0m\u001b[1;33m\u001b[0m\u001b[1;33m\u001b[0m\u001b[0m\n\u001b[0;32m      3\u001b[0m     \u001b[0mprint\u001b[0m \u001b[1;33m(\u001b[0m\u001b[0mcar_count\u001b[0m\u001b[1;33m)\u001b[0m\u001b[1;33m\u001b[0m\u001b[1;33m\u001b[0m\u001b[0m\n",
      "\u001b[1;31mNameError\u001b[0m: name 'c' is not defined"
     ]
    }
   ],
   "source": [
    "for i in range(len(c)):\n",
    "    car_count += int(c[1])\n",
    "    print (car_count)"
   ]
  },
  {
   "cell_type": "code",
   "execution_count": null,
   "id": "65708329",
   "metadata": {},
   "outputs": [],
   "source": []
  }
 ],
 "metadata": {
  "kernelspec": {
   "display_name": "Python 3 (ipykernel)",
   "language": "python",
   "name": "python3"
  },
  "language_info": {
   "codemirror_mode": {
    "name": "ipython",
    "version": 3
   },
   "file_extension": ".py",
   "mimetype": "text/x-python",
   "name": "python",
   "nbconvert_exporter": "python",
   "pygments_lexer": "ipython3",
   "version": "3.9.7"
  }
 },
 "nbformat": 4,
 "nbformat_minor": 5
}
